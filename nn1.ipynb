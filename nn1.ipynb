{
  "nbformat": 4,
  "nbformat_minor": 0,
  "metadata": {
    "colab": {
      "name": "nn1.ipynb",
      "provenance": [],
      "collapsed_sections": [],
      "history_visible": true,
      "authorship_tag": "ABX9TyMdJSd0vOgJzim9t5SguCK9",
      "include_colab_link": true
    },
    "kernelspec": {
      "name": "python3",
      "display_name": "Python 3"
    }
  },
  "cells": [
    {
      "cell_type": "markdown",
      "metadata": {
        "id": "view-in-github",
        "colab_type": "text"
      },
      "source": [
        "<a href=\"https://colab.research.google.com/github/fyenne/AAE-724-SimingYan/blob/master/nn1.ipynb\" target=\"_parent\"><img src=\"https://colab.research.google.com/assets/colab-badge.svg\" alt=\"Open In Colab\"/></a>"
      ]
    },
    {
      "cell_type": "code",
      "metadata": {
        "id": "Ef9l_4d7Ds6S"
      },
      "source": [
        "import rpy2.robjects as robjects"
      ],
      "execution_count": 2,
      "outputs": []
    },
    {
      "cell_type": "code",
      "metadata": {
        "id": "OgqUbIIrD0OV",
        "outputId": "62b3ec12-7779-4005-a37b-62cba41d6875",
        "colab": {
          "base_uri": "https://localhost:8080/",
          "height": 329
        }
      },
      "source": [
        "robjects.r['load'](\"alotofdata.RData\")"
      ],
      "execution_count": 4,
      "outputs": [
        {
          "output_type": "stream",
          "text": [
            "R[write to console]: Warning:\n",
            "R[write to console]:  namespace ‘ggthemr’ is not available and has been replaced\n",
            "by .GlobalEnv when processing object ‘scale_fill_continuous’\n",
            "\n",
            "R[write to console]: Warning:\n",
            "R[write to console]:  namespace ‘lfe’ is not available and has been replaced\n",
            "by .GlobalEnv when processing object ‘reg1’\n",
            "\n",
            "R[write to console]: Warning:\n",
            "R[write to console]:  namespace ‘glmnet’ is not available and has been replaced\n",
            "by .GlobalEnv when processing object ‘lr_model’\n",
            "\n",
            "R[write to console]: Warning:\n",
            "R[write to console]:  namespace ‘neuralnet’ is not available and has been replaced\n",
            "by .GlobalEnv when processing object ‘nn’\n",
            "\n"
          ],
          "name": "stderr"
        },
        {
          "output_type": "execute_result",
          "data": {
            "text/html": [
              "\n",
              "        <span>StrVector with 230 elements.</span>\n",
              "        <table>\n",
              "        <tbody>\n",
              "          <tr>\n",
              "          \n",
              "            <td>\n",
              "            'latest_p...\n",
              "            </td>\n",
              "          \n",
              "            <td>\n",
              "            'appendix2'\n",
              "            </td>\n",
              "          \n",
              "            <td>\n",
              "            'bb'\n",
              "            </td>\n",
              "          \n",
              "            <td>\n",
              "            ...\n",
              "            </td>\n",
              "          \n",
              "            <td>\n",
              "            'afre_plt1'\n",
              "            </td>\n",
              "          \n",
              "            <td>\n",
              "            'df_1819'\n",
              "            </td>\n",
              "          \n",
              "            <td>\n",
              "            'first_pa...\n",
              "            </td>\n",
              "          \n",
              "          </tr>\n",
              "        </tbody>\n",
              "        </table>\n",
              "        "
            ],
            "text/plain": [
              "R object with classes: ('character',) mapped to:\n",
              "['latest_p..., 'appendix2', 'bb', 'fire_ind..., ..., 'predict_..., 'afre_plt1', 'df_1819', 'first_pa...]"
            ]
          },
          "metadata": {
            "tags": []
          },
          "execution_count": 4
        }
      ]
    },
    {
      "cell_type": "code",
      "metadata": {
        "id": "jlJvrRXkEQjO",
        "outputId": "7f507b69-cae2-4243-befe-d4d9fb8997f3",
        "colab": {
          "base_uri": "https://localhost:8080/",
          "height": 35
        }
      },
      "source": [
        "import os\n",
        "os.getcwd()"
      ],
      "execution_count": 5,
      "outputs": [
        {
          "output_type": "execute_result",
          "data": {
            "application/vnd.google.colaboratory.intrinsic+json": {
              "type": "string"
            },
            "text/plain": [
              "'/content'"
            ]
          },
          "metadata": {
            "tags": []
          },
          "execution_count": 5
        }
      ]
    },
    {
      "cell_type": "code",
      "metadata": {
        "id": "IWBSqv9oFiIB",
        "outputId": "993f4fe6-6e6d-4d5e-aa7a-4dcfe30da544",
        "colab": {
          "base_uri": "https://localhost:8080/"
        }
      },
      "source": [
        "import tensorflow as tf\n",
        "import matplotlib.pyplot as plt\n",
        "import numpy as np\n",
        "import pandas as pd\n",
        "import seaborn as sns\n",
        "\n",
        "\n",
        "# Make numpy printouts easier to read.\n",
        "np.set_printoptions(precision=3, suppress=True)\n",
        "\n",
        "from tensorflow import keras\n",
        "from tensorflow.keras import layers\n",
        "from tensorflow.keras.layers.experimental import preprocessing\n",
        "\n",
        "print(tf.__version__)"
      ],
      "execution_count": 6,
      "outputs": [
        {
          "output_type": "stream",
          "text": [
            "2.5.0-dev20201112\n"
          ],
          "name": "stdout"
        }
      ]
    },
    {
      "cell_type": "code",
      "metadata": {
        "id": "DoyknwgcGmDh",
        "outputId": "28a19b5f-628d-4aad-9f61-8cf676a88617",
        "colab": {
          "base_uri": "https://localhost:8080/",
          "height": 183
        }
      },
      "source": [
        "robjects.r('pp_data').head()"
      ],
      "execution_count": 7,
      "outputs": [
        {
          "output_type": "execute_result",
          "data": {
            "text/html": [
              "\n",
              "        <span>R/rpy2 DataFrame (6 x 23)</span>\n",
              "        <table>\n",
              "          <thead>\n",
              "            <tr>\n",
              "              \n",
              "              <th>X</th>\n",
              "              \n",
              "              <th>plant</th>\n",
              "              \n",
              "              <th>capacity</th>\n",
              "              \n",
              "              <th>...</th>\n",
              "              \n",
              "              <th>city</th>\n",
              "              \n",
              "              <th>spr_festival</th>\n",
              "              \n",
              "              <th>bf_covid</th>\n",
              "              \n",
              "            </tr>\n",
              "          </thead>\n",
              "          <tbody>\n",
              "          \n",
              "          <tr>\n",
              "            \n",
              "            <td>\n",
              "              1\n",
              "            </td>\n",
              "            \n",
              "            <td>\n",
              "              'ä¸‡å...\n",
              "            </td>\n",
              "            \n",
              "            <td>\n",
              "              54.000000\n",
              "            </td>\n",
              "            \n",
              "            <td>\n",
              "              ...\n",
              "            </td>\n",
              "            \n",
              "            <td>\n",
              "              0\n",
              "            </td>\n",
              "            \n",
              "            <td>\n",
              "              0\n",
              "            </td>\n",
              "            \n",
              "            <td>\n",
              "              0\n",
              "            </td>\n",
              "            \n",
              "          </tr>\n",
              "          \n",
              "          <tr>\n",
              "            \n",
              "            <td>\n",
              "              2\n",
              "            </td>\n",
              "            \n",
              "            <td>\n",
              "              'ä¸‡å...\n",
              "            </td>\n",
              "            \n",
              "            <td>\n",
              "              54.000000\n",
              "            </td>\n",
              "            \n",
              "            <td>\n",
              "              \n",
              "            </td>\n",
              "            \n",
              "            <td>\n",
              "              0\n",
              "            </td>\n",
              "            \n",
              "            <td>\n",
              "              0\n",
              "            </td>\n",
              "            \n",
              "            <td>\n",
              "              1\n",
              "            </td>\n",
              "            \n",
              "          </tr>\n",
              "          \n",
              "          <tr>\n",
              "            \n",
              "            <td>\n",
              "              3\n",
              "            </td>\n",
              "            \n",
              "            <td>\n",
              "              'ä¸‡å...\n",
              "            </td>\n",
              "            \n",
              "            <td>\n",
              "              54.000000\n",
              "            </td>\n",
              "            \n",
              "            <td>\n",
              "              \n",
              "            </td>\n",
              "            \n",
              "            <td>\n",
              "              0\n",
              "            </td>\n",
              "            \n",
              "            <td>\n",
              "              0\n",
              "            </td>\n",
              "            \n",
              "            <td>\n",
              "              1\n",
              "            </td>\n",
              "            \n",
              "          </tr>\n",
              "          \n",
              "          <tr>\n",
              "            \n",
              "            <td>\n",
              "              4\n",
              "            </td>\n",
              "            \n",
              "            <td>\n",
              "              'ä¸‡å...\n",
              "            </td>\n",
              "            \n",
              "            <td>\n",
              "              54.000000\n",
              "            </td>\n",
              "            \n",
              "            <td>\n",
              "              \n",
              "            </td>\n",
              "            \n",
              "            <td>\n",
              "              0\n",
              "            </td>\n",
              "            \n",
              "            <td>\n",
              "              0\n",
              "            </td>\n",
              "            \n",
              "            <td>\n",
              "              1\n",
              "            </td>\n",
              "            \n",
              "          </tr>\n",
              "          \n",
              "          <tr>\n",
              "            \n",
              "            <td>\n",
              "              5\n",
              "            </td>\n",
              "            \n",
              "            <td>\n",
              "              'ä¸‡å...\n",
              "            </td>\n",
              "            \n",
              "            <td>\n",
              "              54.000000\n",
              "            </td>\n",
              "            \n",
              "            <td>\n",
              "              \n",
              "            </td>\n",
              "            \n",
              "            <td>\n",
              "              0\n",
              "            </td>\n",
              "            \n",
              "            <td>\n",
              "              0\n",
              "            </td>\n",
              "            \n",
              "            <td>\n",
              "              1\n",
              "            </td>\n",
              "            \n",
              "          </tr>\n",
              "          \n",
              "          <tr>\n",
              "            \n",
              "            <td>\n",
              "              6\n",
              "            </td>\n",
              "            \n",
              "            <td>\n",
              "              'ä¸‡å...\n",
              "            </td>\n",
              "            \n",
              "            <td>\n",
              "              54.000000\n",
              "            </td>\n",
              "            \n",
              "            <td>\n",
              "              \n",
              "            </td>\n",
              "            \n",
              "            <td>\n",
              "              0\n",
              "            </td>\n",
              "            \n",
              "            <td>\n",
              "              0\n",
              "            </td>\n",
              "            \n",
              "            <td>\n",
              "              1\n",
              "            </td>\n",
              "            \n",
              "          </tr>\n",
              "          \n",
              "          </tbody>\n",
              "        </table>\n",
              "    "
            ],
            "text/plain": [
              "R object with classes: ('data.frame',) mapped to:\n",
              "[IntSexpVe..., StrSexpVe..., FloatSexp..., FloatSexp..., ..., StrSexpVe..., IntSexpVe..., IntSexpVe..., IntSexpVe...]\n",
              "  X: <class 'rpy2.robjects.vectors.IntVector'>\n",
              "  R object with classes: ('RTYPES.INTSXP',) mapped to:\n",
              "[1, 2, 3, 4, 5, 6]\n",
              "  plant: <class 'rpy2.robjects.vectors.StrVector'>\n",
              "  R object with classes: ('character',) mapped to:\n",
              "['ä¸‡å..., 'ä¸‡å..., 'ä¸‡å..., 'ä¸‡å..., 'ä¸‡å..., 'ä¸‡å...]\n",
              "  capacity: <class 'rpy2.robjects.vectors.FloatVector'>\n",
              "  R object with classes: ('numeric',) mapped to:\n",
              "[54.000000, 54.000000, 54.000000, 54.000000, 54.000000, 54.000000]\n",
              "  complete: <class 'rpy2.robjects.vectors.FloatVector'>\n",
              "  R object with classes: ('numeric',) mapped to:\n",
              "[126.300000, 85.600000, 151.300000, 68.500000, 46.200000, 114.500000]\n",
              "...\n",
              "  time: <class 'rpy2.robjects.vectors.StrVector'>\n",
              "  R object with classes: ('character',) mapped to:\n",
              "['hydro', 'hydro', 'hydro', 'hydro', 'hydro', 'hydro']\n",
              "  month: <class 'rpy2.robjects.vectors.FactorVector'>\n",
              "  R object with classes: ('factor',) mapped to:\n",
              "[0, 0, 0, 0, 0, 0]\n",
              "  year: <class 'rpy2.robjects.vectors.IntVector'>\n",
              "  R object with classes: ('RTYPES.INTSXP',) mapped to:\n",
              "[0, 0, 0, 0, 0, 0]\n",
              "  parent_company: <class 'rpy2.robjects.vectors.FactorVector'>\n",
              "  R object with classes: ('factor',) mapped to:\n",
              "[0, 1, 1, 1, 1, 1]"
            ]
          },
          "metadata": {
            "tags": []
          },
          "execution_count": 7
        }
      ]
    },
    {
      "cell_type": "code",
      "metadata": {
        "id": "IHjJS3dVPU-e"
      },
      "source": [
        "pp_bf_dummy = robjects.r('pp_data_bf_dummy')\n"
      ],
      "execution_count": 8,
      "outputs": []
    },
    {
      "cell_type": "code",
      "metadata": {
        "id": "zYF5IILETiHB"
      },
      "source": [
        "def coerce_df_columns_to_numeric(df):\n",
        "    df = df.apply(pd.to_numeric, errors='coerce')\n",
        "\n",
        "\n",
        "# coerce_df_columns_to_numeric(pp_bf_dummy2)"
      ],
      "execution_count": 9,
      "outputs": []
    },
    {
      "cell_type": "code",
      "metadata": {
        "id": "H1pm6yRZYD_F"
      },
      "source": [
        "from rpy2.robjects import pandas2ri\n",
        "pp_bf_dummy2 = pandas2ri.rpy2py_dataframe(pp_bf_dummy)"
      ],
      "execution_count": 12,
      "outputs": []
    },
    {
      "cell_type": "code",
      "metadata": {
        "id": "ywMiaHVNaVtW"
      },
      "source": [
        "pp_bf_dummy2=pp_bf_dummy2.astype(float)\n"
      ],
      "execution_count": 24,
      "outputs": []
    },
    {
      "cell_type": "code",
      "metadata": {
        "id": "EZL4ZAnpQCNL",
        "outputId": "83306517-7d38-4844-844b-4b8cbcde0f81",
        "colab": {
          "base_uri": "https://localhost:8080/"
        }
      },
      "source": [
        "from pandas.api.types import is_string_dtype\n",
        "from pandas.api.types import is_numeric_dtype\n",
        "is_numeric_dtype(pp_bf_dummy2)\n",
        "# is_numeric_dtype(normalizer)\n",
        "\n"
      ],
      "execution_count": 25,
      "outputs": [
        {
          "output_type": "execute_result",
          "data": {
            "text/plain": [
              "False"
            ]
          },
          "metadata": {
            "tags": []
          },
          "execution_count": 25
        }
      ]
    },
    {
      "cell_type": "code",
      "metadata": {
        "id": "fuMerykGbHMk"
      },
      "source": [
        ""
      ],
      "execution_count": 18,
      "outputs": []
    },
    {
      "cell_type": "code",
      "metadata": {
        "id": "iEb2eqMTbn-M"
      },
      "source": [
        "pp_bf_dummy2.isna().sum()\n",
        "\n",
        "dataset = pp_bf_dummy2"
      ],
      "execution_count": 26,
      "outputs": []
    },
    {
      "cell_type": "code",
      "metadata": {
        "id": "E4UhDIk1cRnc"
      },
      "source": [
        "train_dataset = dataset.sample(frac=0.75, random_state=0)\n",
        "test_dataset = dataset.drop(train_dataset.index)"
      ],
      "execution_count": 27,
      "outputs": []
    },
    {
      "cell_type": "code",
      "metadata": {
        "id": "j_zhAyAidAF4",
        "outputId": "21751f95-61f0-420a-906c-d87125d1249e",
        "colab": {
          "base_uri": "https://localhost:8080/",
          "height": 419
        }
      },
      "source": [
        "train_dataset.describe().transpose()"
      ],
      "execution_count": 28,
      "outputs": [
        {
          "output_type": "execute_result",
          "data": {
            "text/html": [
              "<div>\n",
              "<style scoped>\n",
              "    .dataframe tbody tr th:only-of-type {\n",
              "        vertical-align: middle;\n",
              "    }\n",
              "\n",
              "    .dataframe tbody tr th {\n",
              "        vertical-align: top;\n",
              "    }\n",
              "\n",
              "    .dataframe thead th {\n",
              "        text-align: right;\n",
              "    }\n",
              "</style>\n",
              "<table border=\"1\" class=\"dataframe\">\n",
              "  <thead>\n",
              "    <tr style=\"text-align: right;\">\n",
              "      <th></th>\n",
              "      <th>count</th>\n",
              "      <th>mean</th>\n",
              "      <th>std</th>\n",
              "      <th>min</th>\n",
              "      <th>25%</th>\n",
              "      <th>50%</th>\n",
              "      <th>75%</th>\n",
              "      <th>max</th>\n",
              "    </tr>\n",
              "  </thead>\n",
              "  <tbody>\n",
              "    <tr>\n",
              "      <th>capacity</th>\n",
              "      <td>7892.0</td>\n",
              "      <td>0.091040</td>\n",
              "      <td>0.131879</td>\n",
              "      <td>0.0</td>\n",
              "      <td>0.017694</td>\n",
              "      <td>0.037376</td>\n",
              "      <td>0.105368</td>\n",
              "      <td>1.0</td>\n",
              "    </tr>\n",
              "    <tr>\n",
              "      <th>complete</th>\n",
              "      <td>7892.0</td>\n",
              "      <td>0.049337</td>\n",
              "      <td>0.097410</td>\n",
              "      <td>0.0</td>\n",
              "      <td>0.003308</td>\n",
              "      <td>0.008846</td>\n",
              "      <td>0.033513</td>\n",
              "      <td>1.0</td>\n",
              "    </tr>\n",
              "    <tr>\n",
              "      <th>wind</th>\n",
              "      <td>7892.0</td>\n",
              "      <td>0.227572</td>\n",
              "      <td>0.419292</td>\n",
              "      <td>0.0</td>\n",
              "      <td>0.000000</td>\n",
              "      <td>0.000000</td>\n",
              "      <td>0.000000</td>\n",
              "      <td>1.0</td>\n",
              "    </tr>\n",
              "    <tr>\n",
              "      <th>Hydro</th>\n",
              "      <td>7892.0</td>\n",
              "      <td>0.014192</td>\n",
              "      <td>0.118288</td>\n",
              "      <td>0.0</td>\n",
              "      <td>0.000000</td>\n",
              "      <td>0.000000</td>\n",
              "      <td>0.000000</td>\n",
              "      <td>1.0</td>\n",
              "    </tr>\n",
              "    <tr>\n",
              "      <th>photovoltaic</th>\n",
              "      <td>7892.0</td>\n",
              "      <td>0.351115</td>\n",
              "      <td>0.477349</td>\n",
              "      <td>0.0</td>\n",
              "      <td>0.000000</td>\n",
              "      <td>0.000000</td>\n",
              "      <td>1.000000</td>\n",
              "      <td>1.0</td>\n",
              "    </tr>\n",
              "    <tr>\n",
              "      <th>...</th>\n",
              "      <td>...</td>\n",
              "      <td>...</td>\n",
              "      <td>...</td>\n",
              "      <td>...</td>\n",
              "      <td>...</td>\n",
              "      <td>...</td>\n",
              "      <td>...</td>\n",
              "      <td>...</td>\n",
              "    </tr>\n",
              "    <tr>\n",
              "      <th>plant_1_zhuofenglingfengdianchang</th>\n",
              "      <td>7892.0</td>\n",
              "      <td>0.001901</td>\n",
              "      <td>0.043558</td>\n",
              "      <td>0.0</td>\n",
              "      <td>0.000000</td>\n",
              "      <td>0.000000</td>\n",
              "      <td>0.000000</td>\n",
              "      <td>1.0</td>\n",
              "    </tr>\n",
              "    <tr>\n",
              "      <th>plant_1_zongleshanfengdianchang</th>\n",
              "      <td>7892.0</td>\n",
              "      <td>0.001647</td>\n",
              "      <td>0.040555</td>\n",
              "      <td>0.0</td>\n",
              "      <td>0.000000</td>\n",
              "      <td>0.000000</td>\n",
              "      <td>0.000000</td>\n",
              "      <td>1.0</td>\n",
              "    </tr>\n",
              "    <tr>\n",
              "      <th>plant_1_zuhuguangfu</th>\n",
              "      <td>7892.0</td>\n",
              "      <td>0.003675</td>\n",
              "      <td>0.060511</td>\n",
              "      <td>0.0</td>\n",
              "      <td>0.000000</td>\n",
              "      <td>0.000000</td>\n",
              "      <td>0.000000</td>\n",
              "      <td>1.0</td>\n",
              "    </tr>\n",
              "    <tr>\n",
              "      <th>plant_1_zuoquandianchang</th>\n",
              "      <td>7892.0</td>\n",
              "      <td>0.003168</td>\n",
              "      <td>0.056197</td>\n",
              "      <td>0.0</td>\n",
              "      <td>0.000000</td>\n",
              "      <td>0.000000</td>\n",
              "      <td>0.000000</td>\n",
              "      <td>1.0</td>\n",
              "    </tr>\n",
              "    <tr>\n",
              "      <th>plant_1_zuoyunwulushan</th>\n",
              "      <td>7892.0</td>\n",
              "      <td>0.001267</td>\n",
              "      <td>0.035576</td>\n",
              "      <td>0.0</td>\n",
              "      <td>0.000000</td>\n",
              "      <td>0.000000</td>\n",
              "      <td>0.000000</td>\n",
              "      <td>1.0</td>\n",
              "    </tr>\n",
              "  </tbody>\n",
              "</table>\n",
              "<p>710 rows × 8 columns</p>\n",
              "</div>"
            ],
            "text/plain": [
              "                                    count      mean  ...       75%  max\n",
              "capacity                           7892.0  0.091040  ...  0.105368  1.0\n",
              "complete                           7892.0  0.049337  ...  0.033513  1.0\n",
              "wind                               7892.0  0.227572  ...  0.000000  1.0\n",
              "Hydro                              7892.0  0.014192  ...  0.000000  1.0\n",
              "photovoltaic                       7892.0  0.351115  ...  1.000000  1.0\n",
              "...                                   ...       ...  ...       ...  ...\n",
              "plant_1_zhuofenglingfengdianchang  7892.0  0.001901  ...  0.000000  1.0\n",
              "plant_1_zongleshanfengdianchang    7892.0  0.001647  ...  0.000000  1.0\n",
              "plant_1_zuhuguangfu                7892.0  0.003675  ...  0.000000  1.0\n",
              "plant_1_zuoquandianchang           7892.0  0.003168  ...  0.000000  1.0\n",
              "plant_1_zuoyunwulushan             7892.0  0.001267  ...  0.000000  1.0\n",
              "\n",
              "[710 rows x 8 columns]"
            ]
          },
          "metadata": {
            "tags": []
          },
          "execution_count": 28
        }
      ]
    },
    {
      "cell_type": "markdown",
      "metadata": {
        "id": "L7HSCQ2hdNSd"
      },
      "source": [
        "# Split features from labels\n",
        "Separate the target value, the \"label\", from the features. This label is the value that you will train the model to predict."
      ]
    },
    {
      "cell_type": "code",
      "metadata": {
        "id": "xO2ATUdLdE-R"
      },
      "source": [
        "train_features = train_dataset.copy()\n",
        "test_features = test_dataset.copy()\n",
        "\n",
        "train_labels = train_features.pop('complete')\n",
        "test_labels = test_features.pop('complete')"
      ],
      "execution_count": 29,
      "outputs": []
    },
    {
      "cell_type": "markdown",
      "metadata": {
        "id": "_ke92QpjdVzj"
      },
      "source": [
        "# Normalization\n",
        "In the table of statistics it's easy to see how different the ranges of each feature are."
      ]
    },
    {
      "cell_type": "code",
      "metadata": {
        "id": "17pEmfYRdTPH",
        "outputId": "c3940341-a195-45ed-d359-86c8cd3ecec9",
        "colab": {
          "base_uri": "https://localhost:8080/",
          "height": 419
        }
      },
      "source": [
        "train_dataset.describe().transpose()[['mean', 'std']]"
      ],
      "execution_count": 30,
      "outputs": [
        {
          "output_type": "execute_result",
          "data": {
            "text/html": [
              "<div>\n",
              "<style scoped>\n",
              "    .dataframe tbody tr th:only-of-type {\n",
              "        vertical-align: middle;\n",
              "    }\n",
              "\n",
              "    .dataframe tbody tr th {\n",
              "        vertical-align: top;\n",
              "    }\n",
              "\n",
              "    .dataframe thead th {\n",
              "        text-align: right;\n",
              "    }\n",
              "</style>\n",
              "<table border=\"1\" class=\"dataframe\">\n",
              "  <thead>\n",
              "    <tr style=\"text-align: right;\">\n",
              "      <th></th>\n",
              "      <th>mean</th>\n",
              "      <th>std</th>\n",
              "    </tr>\n",
              "  </thead>\n",
              "  <tbody>\n",
              "    <tr>\n",
              "      <th>capacity</th>\n",
              "      <td>0.091040</td>\n",
              "      <td>0.131879</td>\n",
              "    </tr>\n",
              "    <tr>\n",
              "      <th>complete</th>\n",
              "      <td>0.049337</td>\n",
              "      <td>0.097410</td>\n",
              "    </tr>\n",
              "    <tr>\n",
              "      <th>wind</th>\n",
              "      <td>0.227572</td>\n",
              "      <td>0.419292</td>\n",
              "    </tr>\n",
              "    <tr>\n",
              "      <th>Hydro</th>\n",
              "      <td>0.014192</td>\n",
              "      <td>0.118288</td>\n",
              "    </tr>\n",
              "    <tr>\n",
              "      <th>photovoltaic</th>\n",
              "      <td>0.351115</td>\n",
              "      <td>0.477349</td>\n",
              "    </tr>\n",
              "    <tr>\n",
              "      <th>...</th>\n",
              "      <td>...</td>\n",
              "      <td>...</td>\n",
              "    </tr>\n",
              "    <tr>\n",
              "      <th>plant_1_zhuofenglingfengdianchang</th>\n",
              "      <td>0.001901</td>\n",
              "      <td>0.043558</td>\n",
              "    </tr>\n",
              "    <tr>\n",
              "      <th>plant_1_zongleshanfengdianchang</th>\n",
              "      <td>0.001647</td>\n",
              "      <td>0.040555</td>\n",
              "    </tr>\n",
              "    <tr>\n",
              "      <th>plant_1_zuhuguangfu</th>\n",
              "      <td>0.003675</td>\n",
              "      <td>0.060511</td>\n",
              "    </tr>\n",
              "    <tr>\n",
              "      <th>plant_1_zuoquandianchang</th>\n",
              "      <td>0.003168</td>\n",
              "      <td>0.056197</td>\n",
              "    </tr>\n",
              "    <tr>\n",
              "      <th>plant_1_zuoyunwulushan</th>\n",
              "      <td>0.001267</td>\n",
              "      <td>0.035576</td>\n",
              "    </tr>\n",
              "  </tbody>\n",
              "</table>\n",
              "<p>710 rows × 2 columns</p>\n",
              "</div>"
            ],
            "text/plain": [
              "                                       mean       std\n",
              "capacity                           0.091040  0.131879\n",
              "complete                           0.049337  0.097410\n",
              "wind                               0.227572  0.419292\n",
              "Hydro                              0.014192  0.118288\n",
              "photovoltaic                       0.351115  0.477349\n",
              "...                                     ...       ...\n",
              "plant_1_zhuofenglingfengdianchang  0.001901  0.043558\n",
              "plant_1_zongleshanfengdianchang    0.001647  0.040555\n",
              "plant_1_zuhuguangfu                0.003675  0.060511\n",
              "plant_1_zuoquandianchang           0.003168  0.056197\n",
              "plant_1_zuoyunwulushan             0.001267  0.035576\n",
              "\n",
              "[710 rows x 2 columns]"
            ]
          },
          "metadata": {
            "tags": []
          },
          "execution_count": 30
        }
      ]
    },
    {
      "cell_type": "code",
      "metadata": {
        "id": "_m1ovj55dbLH"
      },
      "source": [
        "normalizer = preprocessing.Normalization()"
      ],
      "execution_count": 31,
      "outputs": []
    },
    {
      "cell_type": "code",
      "metadata": {
        "id": "XnFDzG9JdnDJ"
      },
      "source": [
        "normalizer.adapt(np.array(train_features))"
      ],
      "execution_count": 32,
      "outputs": []
    },
    {
      "cell_type": "code",
      "metadata": {
        "id": "s9CnvCn3dm5H",
        "outputId": "02aa1a8f-8d60-4b50-c226-d0302bab24fe",
        "colab": {
          "base_uri": "https://localhost:8080/"
        }
      },
      "source": [
        "print(normalizer.mean.numpy())"
      ],
      "execution_count": 33,
      "outputs": [
        {
          "output_type": "stream",
          "text": [
            "[0.091 0.228 0.014 0.351 0.407 0.228 1.295 0.    0.109 0.076 0.075 0.075\n",
            " 0.079 0.08  0.084 0.082 0.058 0.09  0.087 0.105 0.019 0.242 0.326 0.38\n",
            " 0.033 0.002 0.002 0.009 0.002 0.007 0.003 0.003 0.001 0.061 0.003 0.254\n",
            " 0.002 0.039 0.001 0.038 0.003 0.002 0.005 0.042 0.004 0.007 0.002 0.004\n",
            " 0.001 0.003 0.033 0.027 0.    0.004 0.003 0.002 0.002 0.001 0.    0.026\n",
            " 0.003 0.001 0.015 0.002 0.002 0.007 0.063 0.002 0.002 0.003 0.002 0.023\n",
            " 0.002 0.002 0.007 0.003 0.002 0.011 0.003 0.003 0.002 0.002 0.004 0.002\n",
            " 0.001 0.    0.004 0.002 0.001 0.015 0.002 0.003 0.006 0.001 0.001 0.06\n",
            " 0.003 0.006 0.003 0.002 0.026 0.012 0.002 0.    0.004 0.001 0.03  0.002\n",
            " 0.001 0.016 0.002 0.003 0.003 0.005 0.007 0.004 0.012 0.002 0.008 0.007\n",
            " 0.004 0.004 0.011 0.001 0.008 0.    0.007 0.01  0.015 0.017 0.002 0.017\n",
            " 0.003 0.01  0.013 0.01  0.014 0.014 0.007 0.016 0.012 0.004 0.001 0.001\n",
            " 0.004 0.012 0.005 0.008 0.012 0.009 0.004 0.01  0.006 0.015 0.014 0.011\n",
            " 0.005 0.004 0.005 0.007 0.008 0.006 0.004 0.007 0.007 0.006 0.004 0.002\n",
            " 0.002 0.003 0.004 0.003 0.006 0.001 0.011 0.004 0.014 0.004 0.006 0.003\n",
            " 0.002 0.004 0.003 0.036 0.002 0.021 0.007 0.006 0.027 0.002 0.013 0.046\n",
            " 0.01  0.012 0.004 0.004 0.007 0.004 0.004 0.004 0.    0.009 0.007 0.006\n",
            " 0.007 0.012 0.009 0.007 0.022 0.014 0.018 0.007 0.002 0.019 0.009 0.002\n",
            " 0.006 0.002 0.007 0.003 0.003 0.015 0.012 0.002 0.018 0.006 0.004 0.004\n",
            " 0.003 0.016 0.033 0.006 0.004 0.006 0.014 0.011 0.009 0.002 0.004 0.003\n",
            " 0.003 0.003 0.003 0.001 0.002 0.002 0.003 0.003 0.001 0.002 0.002 0.001\n",
            " 0.001 0.002 0.003 0.004 0.    0.004 0.003 0.    0.    0.003 0.001 0.004\n",
            " 0.002 0.003 0.001 0.    0.002 0.003 0.001 0.002 0.002 0.001 0.002 0.002\n",
            " 0.002 0.002 0.002 0.004 0.002 0.002 0.002 0.004 0.003 0.002 0.    0.001\n",
            " 0.    0.002 0.004 0.001 0.002 0.003 0.003 0.    0.003 0.    0.002 0.\n",
            " 0.    0.003 0.002 0.002 0.002 0.003 0.003 0.004 0.    0.002 0.002 0.\n",
            " 0.002 0.002 0.003 0.001 0.001 0.    0.004 0.002 0.002 0.001 0.001 0.003\n",
            " 0.003 0.001 0.004 0.004 0.002 0.004 0.002 0.002 0.003 0.002 0.003 0.001\n",
            " 0.004 0.003 0.001 0.002 0.004 0.002 0.001 0.004 0.002 0.002 0.002 0.\n",
            " 0.001 0.004 0.004 0.005 0.003 0.003 0.003 0.    0.002 0.003 0.003 0.004\n",
            " 0.003 0.002 0.002 0.003 0.004 0.003 0.004 0.001 0.001 0.003 0.001 0.002\n",
            " 0.002 0.001 0.004 0.004 0.002 0.002 0.001 0.001 0.001 0.004 0.    0.004\n",
            " 0.003 0.003 0.002 0.003 0.003 0.003 0.002 0.003 0.004 0.003 0.002 0.003\n",
            " 0.002 0.004 0.002 0.002 0.003 0.001 0.001 0.003 0.004 0.002 0.    0.001\n",
            " 0.003 0.004 0.002 0.002 0.003 0.    0.004 0.003 0.001 0.002 0.004 0.002\n",
            " 0.    0.001 0.002 0.001 0.002 0.002 0.002 0.002 0.002 0.002 0.001 0.\n",
            " 0.001 0.001 0.002 0.001 0.003 0.    0.004 0.003 0.003 0.004 0.002 0.004\n",
            " 0.002 0.002 0.002 0.002 0.002 0.003 0.002 0.002 0.003 0.002 0.003 0.001\n",
            " 0.002 0.001 0.    0.001 0.002 0.002 0.002 0.002 0.    0.002 0.004 0.002\n",
            " 0.002 0.002 0.001 0.002 0.002 0.002 0.002 0.002 0.001 0.002 0.002 0.001\n",
            " 0.002 0.001 0.    0.004 0.002 0.001 0.003 0.003 0.    0.001 0.001 0.004\n",
            " 0.001 0.001 0.001 0.    0.004 0.004 0.002 0.002 0.004 0.003 0.001 0.002\n",
            " 0.    0.004 0.003 0.003 0.003 0.002 0.    0.003 0.001 0.003 0.002 0.\n",
            " 0.002 0.002 0.002 0.    0.002 0.002 0.001 0.004 0.001 0.002 0.003 0.003\n",
            " 0.004 0.003 0.003 0.001 0.004 0.002 0.002 0.    0.001 0.002 0.002 0.002\n",
            " 0.001 0.002 0.002 0.003 0.002 0.002 0.001 0.002 0.003 0.004 0.002 0.003\n",
            " 0.004 0.001 0.004 0.002 0.002 0.002 0.002 0.003 0.    0.002 0.002 0.001\n",
            " 0.002 0.003 0.004 0.002 0.001 0.002 0.002 0.001 0.002 0.003 0.001 0.001\n",
            " 0.004 0.002 0.002 0.002 0.004 0.002 0.002 0.003 0.003 0.004 0.003 0.001\n",
            " 0.002 0.002 0.002 0.001 0.004 0.    0.    0.    0.001 0.004 0.002 0.\n",
            " 0.002 0.002 0.002 0.003 0.002 0.001 0.004 0.001 0.004 0.001 0.003 0.003\n",
            " 0.004 0.004 0.002 0.002 0.004 0.003 0.001 0.002 0.003 0.001 0.003 0.003\n",
            " 0.004 0.    0.001 0.001 0.001 0.002 0.002 0.001 0.001 0.003 0.002 0.\n",
            " 0.002 0.002 0.002 0.004 0.001 0.002 0.004 0.003 0.002 0.002 0.    0.004\n",
            " 0.001 0.004 0.002 0.    0.    0.002 0.002 0.004 0.    0.002 0.002 0.002\n",
            " 0.002 0.002 0.002 0.002 0.002 0.001 0.001 0.002 0.001 0.002 0.002 0.003\n",
            " 0.002 0.002 0.007 0.003 0.002 0.002 0.003 0.003 0.003 0.002 0.003 0.004\n",
            " 0.002 0.004 0.004 0.002 0.003 0.002 0.002 0.004 0.004 0.003 0.004 0.003\n",
            " 0.003 0.004 0.002 0.001 0.004 0.002 0.002 0.002 0.002 0.002 0.004 0.003\n",
            " 0.001]\n"
          ],
          "name": "stdout"
        }
      ]
    },
    {
      "cell_type": "code",
      "metadata": {
        "id": "e7MLNUuVdrbv",
        "outputId": "1426d314-b28c-4b3e-ff0b-0bd5839ef6ff",
        "colab": {
          "base_uri": "https://localhost:8080/"
        }
      },
      "source": [
        "first = np.array(train_features[:1])\n",
        "\n",
        "with np.printoptions(precision=2, suppress=True):\n",
        "  print('First example:', first)\n",
        "  print()\n",
        "  print('Normalized:', normalizer(first).numpy())"
      ],
      "execution_count": 34,
      "outputs": [
        {
          "output_type": "stream",
          "text": [
            "First example: [[0.12 1.   0.   0.   0.   0.   0.   0.   0.   0.   0.   1.   0.   0.\n",
            "  0.   0.   0.   0.   0.   0.   0.   1.   0.   0.   0.   0.   0.   0.\n",
            "  1.   0.   0.   0.   0.   0.   0.   0.   0.   0.   0.   0.   0.   0.\n",
            "  0.   0.   0.   0.   0.   0.   0.   0.   0.   0.   0.   0.   0.   0.\n",
            "  0.   0.   0.   0.   0.   0.   0.   0.   0.   0.   0.   0.   0.   0.\n",
            "  0.   0.   0.   0.   0.   0.   0.   0.   0.   0.   0.   0.   0.   0.\n",
            "  0.   0.   0.   0.   0.   0.   0.   0.   0.   0.   0.   0.   0.   0.\n",
            "  0.   0.   0.   0.   0.   0.   0.   0.   0.   0.   0.   0.   0.   0.\n",
            "  0.   0.   0.   0.   0.   0.   0.   0.   0.   0.   0.   0.   0.   0.\n",
            "  0.   0.   0.   0.   0.   0.   0.   0.   0.   0.   0.   0.   0.   0.\n",
            "  0.   0.   0.   0.   0.   0.   0.   0.   0.   0.   0.   0.   0.   0.\n",
            "  0.   0.   0.   0.   0.   0.   0.   0.   0.   0.   0.   0.   0.   0.\n",
            "  0.   0.   0.   0.   0.   0.   0.   0.   0.   0.   0.   0.   0.   0.\n",
            "  0.   1.   0.   0.   0.   0.   0.   0.   0.   0.   0.   0.   0.   0.\n",
            "  0.   0.   0.   0.   0.   0.   0.   0.   0.   0.   0.   0.   0.   0.\n",
            "  0.   0.   0.   0.   0.   0.   0.   0.   0.   0.   0.   0.   0.   0.\n",
            "  0.   0.   0.   0.   0.   0.   0.   0.   0.   0.   0.   0.   0.   0.\n",
            "  0.   0.   0.   0.   0.   0.   0.   0.   0.   0.   0.   0.   0.   0.\n",
            "  0.   0.   0.   0.   0.   0.   0.   0.   0.   0.   0.   0.   0.   0.\n",
            "  0.   0.   0.   0.   0.   0.   0.   0.   0.   1.   0.   0.   0.   0.\n",
            "  0.   0.   0.   0.   0.   0.   0.   0.   0.   0.   0.   0.   0.   0.\n",
            "  0.   0.   0.   0.   0.   0.   0.   0.   0.   0.   0.   0.   0.   0.\n",
            "  0.   0.   0.   0.   0.   0.   0.   0.   0.   0.   0.   0.   0.   0.\n",
            "  0.   0.   0.   0.   0.   0.   0.   0.   0.   0.   0.   0.   0.   0.\n",
            "  0.   0.   0.   0.   0.   0.   0.   0.   0.   0.   0.   0.   0.   0.\n",
            "  0.   0.   0.   0.   0.   0.   0.   0.   0.   0.   0.   0.   0.   0.\n",
            "  0.   0.   0.   0.   0.   0.   0.   0.   0.   0.   0.   0.   0.   0.\n",
            "  0.   0.   0.   0.   0.   0.   0.   0.   0.   0.   0.   0.   0.   0.\n",
            "  0.   0.   0.   0.   0.   0.   0.   0.   0.   0.   0.   0.   0.   0.\n",
            "  0.   0.   0.   0.   0.   0.   0.   0.   0.   0.   0.   0.   0.   0.\n",
            "  0.   0.   0.   0.   0.   0.   0.   0.   0.   0.   0.   0.   0.   0.\n",
            "  0.   0.   0.   0.   0.   0.   0.   0.   0.   0.   0.   0.   0.   0.\n",
            "  0.   0.   0.   0.   0.   0.   0.   0.   0.   0.   0.   0.   0.   0.\n",
            "  0.   0.   0.   0.   0.   0.   0.   0.   0.   0.   0.   0.   0.   0.\n",
            "  0.   0.   0.   0.   0.   0.   0.   0.   0.   0.   0.   0.   0.   0.\n",
            "  0.   0.   0.   0.   0.   0.   0.   0.   0.   0.   0.   0.   0.   0.\n",
            "  0.   0.   0.   0.   0.   0.   0.   0.   0.   0.   0.   0.   0.   0.\n",
            "  0.   0.   0.   0.   0.   0.   0.   0.   0.   0.   0.   0.   0.   0.\n",
            "  0.   0.   0.   0.   0.   0.   0.   0.   0.   0.   0.   0.   0.   0.\n",
            "  0.   0.   0.   0.   0.   0.   0.   0.   0.   0.   0.   0.   0.   0.\n",
            "  0.   0.   0.   0.   0.   0.   0.   0.   0.   0.   0.   0.   0.   0.\n",
            "  0.   0.   0.   0.   0.   0.   0.   0.   0.   0.   0.   0.   0.   0.\n",
            "  0.   0.   0.   0.   0.   0.   0.   0.   0.   0.   0.   0.   0.   0.\n",
            "  0.   0.   0.   0.   0.   0.   0.   0.   0.   0.   0.   0.   0.   0.\n",
            "  0.   0.   0.   0.   0.   0.   0.   0.   0.   0.   0.   0.   0.   0.\n",
            "  0.   0.   0.   0.   0.   0.   0.   0.   0.   0.   0.   0.   0.   0.\n",
            "  0.   0.   0.   0.   0.   0.   0.   0.   0.   0.   0.   0.   0.   0.\n",
            "  0.   0.   0.   0.   0.   0.   0.   0.   0.   0.   0.   0.   0.   0.\n",
            "  0.   0.   0.   0.   0.   0.   0.   0.   0.   0.   0.   0.   0.   0.\n",
            "  0.   0.   0.   0.   0.   0.   0.   0.   0.   0.   0.   0.   0.   0.\n",
            "  0.   0.   0.   0.   0.   0.   0.   0.   0.  ]]\n",
            "\n",
            "Normalized: [[ 0.19  1.84 -0.12 -0.74 -0.83 -0.54 -0.19  0.   -0.35 -0.29 -0.28  3.5\n",
            "  -0.29 -0.3  -0.3  -0.3  -0.25 -0.31 -0.31 -0.34 -0.14  1.77 -0.7  -0.78\n",
            "  -0.19 -0.05 -0.04 -0.09 21.52 -0.08 -0.05 -0.05 -0.03 -0.26 -0.05 -0.58\n",
            "  -0.05 -0.2  -0.02 -0.2  -0.06 -0.04 -0.07 -0.21 -0.06 -0.09 -0.05 -0.06\n",
            "  -0.03 -0.06 -0.18 -0.17 -0.01 -0.06 -0.06 -0.04 -0.04 -0.03 -0.02 -0.16\n",
            "  -0.06 -0.03 -0.12 -0.05 -0.04 -0.08 -0.26 -0.05 -0.04 -0.06 -0.05 -0.15\n",
            "  -0.04 -0.04 -0.08 -0.05 -0.05 -0.1  -0.05 -0.05 -0.05 -0.04 -0.06 -0.05\n",
            "  -0.03 -0.01 -0.06 -0.04 -0.03 -0.12 -0.04 -0.06 -0.07 -0.03 -0.03 -0.25\n",
            "  -0.05 -0.07 -0.05 -0.04 -0.16 -0.11 -0.04 -0.02 -0.06 -0.03 -0.17 -0.04\n",
            "  -0.03 -0.13 -0.05 -0.06 -0.05 -0.07 -0.08 -0.06 -0.11 -0.05 -0.09 -0.09\n",
            "  -0.06 -0.06 -0.11 -0.04 -0.09 -0.02 -0.09 -0.1  -0.12 -0.13 -0.04 -0.13\n",
            "  -0.05 -0.1  -0.12 -0.1  -0.12 -0.12 -0.09 -0.13 -0.11 -0.06 -0.03 -0.03\n",
            "  -0.06 -0.11 -0.07 -0.09 -0.11 -0.09 -0.06 -0.1  -0.07 -0.12 -0.12 -0.1\n",
            "  -0.07 -0.06 -0.07 -0.08 -0.09 -0.08 -0.06 -0.08 -0.08 -0.08 -0.06 -0.04\n",
            "  -0.04 -0.06 -0.06 -0.06 -0.08 -0.04 -0.1  -0.06 -0.12 -0.06 -0.08 -0.05\n",
            "  -0.05 -0.06 -0.05  5.17 -0.05 -0.15 -0.09 -0.08 -0.17 -0.04 -0.11 -0.22\n",
            "  -0.1  -0.11 -0.06 -0.07 -0.08 -0.06 -0.06 -0.06 -0.02 -0.1  -0.09 -0.08\n",
            "  -0.08 -0.11 -0.1  -0.09 -0.15 -0.12 -0.14 -0.09 -0.04 -0.14 -0.09 -0.04\n",
            "  -0.08 -0.05 -0.09 -0.05 -0.05 -0.12 -0.11 -0.04 -0.14 -0.08 -0.06 -0.06\n",
            "  -0.05 -0.13 -0.18 -0.07 -0.07 -0.08 -0.12 -0.1  -0.1  -0.05 -0.06 -0.06\n",
            "  -0.06 -0.05 -0.05 -0.02 -0.04 -0.05 -0.05 -0.06 -0.04 -0.04 -0.05 -0.03\n",
            "  -0.03 -0.05 -0.06 -0.06 -0.02 -0.06 -0.06 -0.01  0.   -0.06 -0.04 -0.06\n",
            "  -0.04 -0.06 -0.03 -0.02 -0.04 -0.05 -0.03 -0.04 -0.05 -0.03 -0.05 21.52\n",
            "  -0.05 -0.04 -0.04 -0.06 -0.05 -0.05 -0.05 -0.06 -0.06 -0.04 -0.02 -0.04\n",
            "  -0.01 -0.05 -0.06 -0.03 -0.04 -0.05 -0.06 -0.02 -0.05 -0.01 -0.05 -0.01\n",
            "  -0.01 -0.05 -0.05 -0.05 -0.04 -0.06 -0.05 -0.06 -0.02 -0.04 -0.04 -0.02\n",
            "  -0.04 -0.04 -0.05 -0.03 -0.04 -0.02 -0.06 -0.05 -0.05 -0.03 -0.03 -0.06\n",
            "  -0.06 -0.03 -0.06 -0.06 -0.04 -0.06 -0.05 -0.05 -0.06 -0.05 -0.05 -0.04\n",
            "  -0.06 -0.06 -0.04 -0.04 -0.06 -0.05 -0.03 -0.06 -0.05 -0.05 -0.04 -0.02\n",
            "  -0.03 -0.06 -0.06 -0.07 -0.06 -0.06 -0.06 -0.02 -0.04 -0.06 -0.06 -0.06\n",
            "  -0.06 -0.04 -0.05 -0.05 -0.06 -0.06 -0.06 -0.04 -0.03 -0.05 -0.04 -0.04\n",
            "  -0.04 -0.04 -0.06 -0.06 -0.05 -0.04 -0.02 -0.03 -0.04 -0.06 -0.02 -0.06\n",
            "  -0.06 -0.06 -0.04 -0.06 -0.05 -0.06 -0.05 -0.05 -0.06 -0.05 -0.04 -0.05\n",
            "  -0.05 -0.06 -0.04 -0.04 -0.05 -0.04 -0.04 -0.05 -0.06 -0.05 -0.02 -0.04\n",
            "  -0.06 -0.06 -0.04 -0.04 -0.05 -0.02 -0.06 -0.06 -0.04 -0.04 -0.06 -0.05\n",
            "   0.   -0.04 -0.05 -0.02 -0.04 -0.05 -0.04 -0.04 -0.04 -0.04 -0.03  0.\n",
            "  -0.03 -0.04 -0.05 -0.03 -0.05  0.   -0.06 -0.05 -0.06 -0.06 -0.05 -0.06\n",
            "  -0.04 -0.04 -0.04 -0.05 -0.05 -0.05 -0.05 -0.04 -0.06 -0.05 -0.05 -0.04\n",
            "  -0.05 -0.04 -0.02 -0.03 -0.04 -0.05 -0.05 -0.04 -0.02 -0.04 -0.06 -0.04\n",
            "  -0.04 -0.04 -0.04 -0.04 -0.04 -0.04 -0.04 -0.04 -0.04 -0.04 -0.04 -0.04\n",
            "  -0.04 -0.04 -0.01 -0.06 -0.05 -0.03 -0.05 -0.05 -0.02 -0.04 -0.04 -0.06\n",
            "  -0.03 -0.04 -0.03 -0.01 -0.06 -0.06 -0.04 -0.05 -0.06 -0.06 -0.03 -0.04\n",
            "  -0.02 -0.06 -0.05 -0.06 -0.06 -0.04 -0.02 -0.05 -0.03 -0.05 -0.04 -0.02\n",
            "  -0.04 -0.04 -0.04 -0.02 -0.04 -0.04 -0.04 -0.06 -0.03 -0.04 -0.06 -0.05\n",
            "  -0.06 -0.06 -0.05 -0.04 -0.06 -0.04 -0.04 -0.01 -0.04 -0.04 -0.05 -0.05\n",
            "  -0.03 -0.04 -0.04 -0.06 -0.05 -0.04 -0.04 -0.05 -0.05 -0.06 -0.04 -0.06\n",
            "  -0.06 -0.04 -0.06 -0.05 -0.04 -0.04 -0.04 -0.06 -0.02 -0.04 -0.04 -0.03\n",
            "  -0.05 -0.05 -0.06 -0.04 -0.03 -0.04 -0.05 -0.04 -0.05 -0.05 -0.03 -0.03\n",
            "  -0.06 -0.05 -0.05 -0.04 -0.06 -0.05 -0.04 -0.06 -0.06 -0.06 -0.05 -0.04\n",
            "  -0.04 -0.04 -0.05 -0.04 -0.07 -0.02 -0.01 -0.01 -0.04 -0.06 -0.05 -0.01\n",
            "  -0.04 -0.04 -0.05 -0.05 -0.05 -0.03 -0.06 -0.03 -0.06 -0.03 -0.05 -0.05\n",
            "  -0.06 -0.06 -0.04 -0.05 -0.06 -0.06 -0.04 -0.05 -0.06 -0.04 -0.06 -0.06\n",
            "  -0.06 -0.01 -0.04 -0.04 -0.03 -0.05 -0.04 -0.03 -0.03 -0.05 -0.05 -0.02\n",
            "  -0.04 -0.04 -0.04 -0.06 -0.03 -0.04 -0.06 -0.06 -0.04 -0.04 -0.01 -0.06\n",
            "  -0.03 -0.06 -0.05  0.   -0.01 -0.05 -0.05 -0.06 -0.02 -0.05 -0.05 -0.04\n",
            "  -0.04 -0.04 -0.04 -0.05 -0.04 -0.04 -0.03 -0.04 -0.03 -0.04 -0.04 -0.06\n",
            "  -0.04 -0.04 -0.09 -0.06 -0.04 -0.04 -0.05 -0.06 -0.05 -0.05 -0.06 -0.06\n",
            "  -0.04 -0.06 -0.06 -0.04 -0.06 -0.05 -0.05 -0.06 -0.06 -0.05 -0.06 -0.06\n",
            "  -0.06 -0.06 -0.04 -0.03 -0.06 -0.04 -0.04 -0.04 -0.04 -0.04 -0.06 -0.06\n",
            "  -0.04]]\n"
          ],
          "name": "stdout"
        }
      ]
    },
    {
      "cell_type": "markdown",
      "metadata": {
        "id": "2AE1XmaDd2Kq"
      },
      "source": [
        "# Linear regression\n",
        "Before building a DNN model, start with a linear regression.\n",
        "\n",
        "One Variable\n",
        "Start with a single-variable linear regression, to predict MPG from Horsepower.\n",
        "\n",
        "Training a model with tf.keras typically starts by defining the model architecture.\n",
        "\n",
        "In this case use a keras.Sequential model. This model represents a sequence of steps. In this case there are two steps:\n",
        "\n",
        "Normalize the input horsepower.\n",
        "Apply a linear transformation () to produce 1 output using layers.Dense.\n",
        "The number of inputs can either be set by the input_shape argument, or automatically when the model is run for the first time.\n",
        "\n",
        "First create the horsepower Normalization layer:"
      ]
    },
    {
      "cell_type": "code",
      "metadata": {
        "id": "RFMK19VmdrY-"
      },
      "source": [
        "capacity = np.array(train_features['capacity'])\n",
        "\n",
        "capacity_normalizer = preprocessing.Normalization(input_shape=[1,])\n",
        "capacity_normalizer.adapt(capacity)"
      ],
      "execution_count": 35,
      "outputs": []
    },
    {
      "cell_type": "code",
      "metadata": {
        "id": "JcPL18tOeLUu",
        "outputId": "b7bd5d72-7561-4f41-e25a-94bea49ed677",
        "colab": {
          "base_uri": "https://localhost:8080/"
        }
      },
      "source": [
        "capacity_model = tf.keras.Sequential([\n",
        "    capacity_normalizer,\n",
        "    layers.Dense(units=1)\n",
        "])\n",
        "\n",
        "capacity_model.summary()"
      ],
      "execution_count": 36,
      "outputs": [
        {
          "output_type": "stream",
          "text": [
            "Model: \"sequential\"\n",
            "_________________________________________________________________\n",
            "Layer (type)                 Output Shape              Param #   \n",
            "=================================================================\n",
            "normalization_1 (Normalizati (None, 1)                 3         \n",
            "_________________________________________________________________\n",
            "dense (Dense)                (None, 1)                 2         \n",
            "=================================================================\n",
            "Total params: 5\n",
            "Trainable params: 2\n",
            "Non-trainable params: 3\n",
            "_________________________________________________________________\n"
          ],
          "name": "stdout"
        }
      ]
    },
    {
      "cell_type": "markdown",
      "metadata": {
        "id": "02KmbpJtebvz"
      },
      "source": [
        "This model will predict MPG from Horsepower.\n",
        "\n",
        "Run the untrained model on the first 10 horse-power values. The output won't be good, but you'll see that it has the expected shape, (10,1):\n",
        "\n"
      ]
    },
    {
      "cell_type": "code",
      "metadata": {
        "id": "yjDh0dgoeLu_",
        "outputId": "053e0624-9cf3-48db-e3e1-3cc9a9ed74e9",
        "colab": {
          "base_uri": "https://localhost:8080/"
        }
      },
      "source": [
        "capacity_model.predict(capacity[:10])"
      ],
      "execution_count": 37,
      "outputs": [
        {
          "output_type": "execute_result",
          "data": {
            "text/plain": [
              "array([[-0.273],\n",
              "       [ 0.566],\n",
              "       [ 0.862],\n",
              "       [ 0.566],\n",
              "       [ 0.144],\n",
              "       [-1.969],\n",
              "       [ 0.841],\n",
              "       [-0.152],\n",
              "       [ 0.355],\n",
              "       [-2.645]], dtype=float32)"
            ]
          },
          "metadata": {
            "tags": []
          },
          "execution_count": 37
        }
      ]
    },
    {
      "cell_type": "code",
      "metadata": {
        "id": "d7wS60mEeLff"
      },
      "source": [
        "capacity_model.compile(\n",
        "    optimizer=tf.optimizers.Adam(learning_rate=0.1),\n",
        "    loss='mean_absolute_error')"
      ],
      "execution_count": 38,
      "outputs": []
    },
    {
      "cell_type": "code",
      "metadata": {
        "id": "PN01Hdx_eLRd",
        "outputId": "0ff89e7d-91ed-41c2-dc88-29dd7e88c7ae",
        "colab": {
          "base_uri": "https://localhost:8080/"
        }
      },
      "source": [
        "%%time\n",
        "history = capacity_model.fit(\n",
        "    train_features['capacity'], train_labels,\n",
        "    epochs=100,\n",
        "    # suppress logging\n",
        "    verbose=0,\n",
        "    # Calculate validation results on 20% of the training data\n",
        "    validation_split = 0.2)"
      ],
      "execution_count": 39,
      "outputs": [
        {
          "output_type": "stream",
          "text": [
            "CPU times: user 25.5 s, sys: 1.77 s, total: 27.3 s\n",
            "Wall time: 22.1 s\n"
          ],
          "name": "stdout"
        }
      ]
    },
    {
      "cell_type": "code",
      "metadata": {
        "id": "fz1D6SMBe12j",
        "outputId": "b7a2ad42-e9b7-4694-8976-6b31d15c5390",
        "colab": {
          "base_uri": "https://localhost:8080/",
          "height": 204
        }
      },
      "source": [
        "hist = pd.DataFrame(history.history)\n",
        "hist['epoch'] = history.epoch\n",
        "hist.tail()"
      ],
      "execution_count": 40,
      "outputs": [
        {
          "output_type": "execute_result",
          "data": {
            "text/html": [
              "<div>\n",
              "<style scoped>\n",
              "    .dataframe tbody tr th:only-of-type {\n",
              "        vertical-align: middle;\n",
              "    }\n",
              "\n",
              "    .dataframe tbody tr th {\n",
              "        vertical-align: top;\n",
              "    }\n",
              "\n",
              "    .dataframe thead th {\n",
              "        text-align: right;\n",
              "    }\n",
              "</style>\n",
              "<table border=\"1\" class=\"dataframe\">\n",
              "  <thead>\n",
              "    <tr style=\"text-align: right;\">\n",
              "      <th></th>\n",
              "      <th>loss</th>\n",
              "      <th>val_loss</th>\n",
              "      <th>epoch</th>\n",
              "    </tr>\n",
              "  </thead>\n",
              "  <tbody>\n",
              "    <tr>\n",
              "      <th>95</th>\n",
              "      <td>0.029754</td>\n",
              "      <td>0.024694</td>\n",
              "      <td>95</td>\n",
              "    </tr>\n",
              "    <tr>\n",
              "      <th>96</th>\n",
              "      <td>0.031400</td>\n",
              "      <td>0.027204</td>\n",
              "      <td>96</td>\n",
              "    </tr>\n",
              "    <tr>\n",
              "      <th>97</th>\n",
              "      <td>0.026732</td>\n",
              "      <td>0.021483</td>\n",
              "      <td>97</td>\n",
              "    </tr>\n",
              "    <tr>\n",
              "      <th>98</th>\n",
              "      <td>0.029003</td>\n",
              "      <td>0.026018</td>\n",
              "      <td>98</td>\n",
              "    </tr>\n",
              "    <tr>\n",
              "      <th>99</th>\n",
              "      <td>0.028487</td>\n",
              "      <td>0.022321</td>\n",
              "      <td>99</td>\n",
              "    </tr>\n",
              "  </tbody>\n",
              "</table>\n",
              "</div>"
            ],
            "text/plain": [
              "        loss  val_loss  epoch\n",
              "95  0.029754  0.024694     95\n",
              "96  0.031400  0.027204     96\n",
              "97  0.026732  0.021483     97\n",
              "98  0.029003  0.026018     98\n",
              "99  0.028487  0.022321     99"
            ]
          },
          "metadata": {
            "tags": []
          },
          "execution_count": 40
        }
      ]
    },
    {
      "cell_type": "code",
      "metadata": {
        "id": "SFfs_SKMe-lF"
      },
      "source": [
        "def plot_loss(history):\n",
        "  plt.plot(history.history['loss'], label='loss')\n",
        "  plt.plot(history.history['val_loss'], label='val_loss')\n",
        "  plt.ylim([0, .1])\n",
        "  plt.xlabel('Epoch')\n",
        "  plt.ylabel('Error [complete]')\n",
        "  plt.legend()\n",
        "  plt.grid(True)"
      ],
      "execution_count": 45,
      "outputs": []
    },
    {
      "cell_type": "code",
      "metadata": {
        "id": "v4QTPKmJfFp0",
        "outputId": "afd667dd-d75c-4e49-c2bf-5bcdf8f65ba6",
        "colab": {
          "base_uri": "https://localhost:8080/",
          "height": 283
        }
      },
      "source": [
        "plot_loss(history)"
      ],
      "execution_count": 46,
      "outputs": [
        {
          "output_type": "display_data",
          "data": {
            "image/png": "[encoded data removed]",
            "text/plain": [
              "<Figure size 432x288 with 1 Axes>"
            ]
          },
          "metadata": {
            "tags": [],
            "needs_background": "light"
          }
        }
      ]
    },
    {
      "cell_type": "markdown",
      "metadata": {
        "id": "YfnzzQCtfSFT"
      },
      "source": [
        "Collect the results on the test set, for later:"
      ]
    },
    {
      "cell_type": "code",
      "metadata": {
        "id": "QUBrNXMrfHTe"
      },
      "source": [
        "test_results = {}\n",
        "\n",
        "test_results['capacity_model'] = capacity_model.evaluate(\n",
        "    test_features['capacity'],\n",
        "    test_labels, verbose=0)"
      ],
      "execution_count": 47,
      "outputs": []
    },
    {
      "cell_type": "code",
      "metadata": {
        "id": "nHTJu9yEfaC7"
      },
      "source": [
        "x = tf.linspace(0.0, 2,3)\n",
        "y = capacity_model.predict(x)"
      ],
      "execution_count": 48,
      "outputs": []
    },
    {
      "cell_type": "code",
      "metadata": {
        "id": "3XzImMnZffVZ"
      },
      "source": [
        "def plot_capacity(x, y):\n",
        "  plt.scatter(train_features['capacity'], train_labels, label='Data')\n",
        "  plt.plot(x, y, color='k', label='Predictions')\n",
        "  plt.xlabel('capacity')\n",
        "  plt.ylabel('complete')\n",
        "  plt.legend()"
      ],
      "execution_count": 49,
      "outputs": []
    },
    {
      "cell_type": "code",
      "metadata": {
        "id": "XNSeP8z8fnsU",
        "outputId": "0280752c-c43b-49f4-8958-e22e28dcbc42",
        "colab": {
          "base_uri": "https://localhost:8080/",
          "height": 279
        }
      },
      "source": [
        "plot_capacity(x,y)"
      ],
      "execution_count": 50,
      "outputs": [
        {
          "output_type": "display_data",
          "data": {
            "image/png": "[encoded data removed]",
            "text/plain": [
              "<Figure size 432x288 with 1 Axes>"
            ]
          },
          "metadata": {
            "tags": [],
            "needs_background": "light"
          }
        }
      ]
    },
    {
      "cell_type": "markdown",
      "metadata": {
        "id": "cv8ylIABgMxM"
      },
      "source": [
        "# Multiple *inputs* \n"
      ]
    },
    {
      "cell_type": "code",
      "metadata": {
        "id": "e0eFXqrRnDre"
      },
      "source": [
        "# !pip install tf-nightly"
      ],
      "execution_count": 51,
      "outputs": []
    },
    {
      "cell_type": "code",
      "metadata": {
        "id": "nRTtqFxKo4a9",
        "outputId": "82e39f2e-fc2c-4435-a04d-efc4f5af93fe",
        "colab": {
          "base_uri": "https://localhost:8080/",
          "height": 35
        }
      },
      "source": [
        "tf.__version__"
      ],
      "execution_count": 52,
      "outputs": [
        {
          "output_type": "execute_result",
          "data": {
            "application/vnd.google.colaboratory.intrinsic+json": {
              "type": "string"
            },
            "text/plain": [
              "'2.5.0-dev20201112'"
            ]
          },
          "metadata": {
            "tags": []
          },
          "execution_count": 52
        }
      ]
    },
    {
      "cell_type": "code",
      "metadata": {
        "id": "W_5TufPLhiP6",
        "outputId": "d51ddf3a-de20-4576-9d52-a3950381cbd7",
        "colab": {
          "base_uri": "https://localhost:8080/"
        }
      },
      "source": [
        "linear_model = tf.keras.Sequential([\n",
        "    normalizer,\n",
        "    layers.Dense(units=1)\n",
        "])\n",
        "\n",
        "linear_model.summary()"
      ],
      "execution_count": 53,
      "outputs": [
        {
          "output_type": "stream",
          "text": [
            "Model: \"sequential_1\"\n",
            "_________________________________________________________________\n",
            "Layer (type)                 Output Shape              Param #   \n",
            "=================================================================\n",
            "normalization (Normalization (None, 709)               1419      \n",
            "_________________________________________________________________\n",
            "dense_1 (Dense)              (None, 1)                 710       \n",
            "=================================================================\n",
            "Total params: 2,129\n",
            "Trainable params: 710\n",
            "Non-trainable params: 1,419\n",
            "_________________________________________________________________\n"
          ],
          "name": "stdout"
        }
      ]
    },
    {
      "cell_type": "code",
      "metadata": {
        "id": "0noIS0OEgamF",
        "outputId": "a4896659-2b8e-4a38-f712-d702fafe4fcd",
        "colab": {
          "base_uri": "https://localhost:8080/"
        }
      },
      "source": [
        "linear_model.predict_step(train_features)\n",
        "\n",
        "# predict_step()"
      ],
      "execution_count": 54,
      "outputs": [
        {
          "output_type": "execute_result",
          "data": {
            "text/plain": [
              "<tf.Tensor: shape=(7892, 1), dtype=float32, numpy=\n",
              "array([[ 0.776],\n",
              "       [ 1.474],\n",
              "       [ 0.403],\n",
              "       ...,\n",
              "       [-1.086],\n",
              "       [-0.692],\n",
              "       [-0.999]], dtype=float32)>"
            ]
          },
          "metadata": {
            "tags": []
          },
          "execution_count": 54
        }
      ]
    },
    {
      "cell_type": "code",
      "metadata": {
        "id": "sVM8S5aGgc3u"
      },
      "source": [
        ""
      ],
      "execution_count": 54,
      "outputs": []
    },
    {
      "cell_type": "code",
      "metadata": {
        "id": "cls5sN-3gesO"
      },
      "source": [
        "linear_model.compile(\n",
        "    optimizer=tf.optimizers.Adam(learning_rate=0.001),\n",
        "    loss='mean_absolute_error')"
      ],
      "execution_count": 55,
      "outputs": []
    },
    {
      "cell_type": "code",
      "metadata": {
        "id": "C-8Irj6PggRZ",
        "outputId": "789b62e4-3fab-41b9-e082-b3f953b212e6",
        "colab": {
          "base_uri": "https://localhost:8080/"
        }
      },
      "source": [
        "%%time\n",
        "history = linear_model.fit(\n",
        "    train_features, train_labels, \n",
        "    epochs=100,\n",
        "    # suppress logging\n",
        "    verbose=0,\n",
        "    # Calculate validation results on 20% of the training data\n",
        "    validation_split = 0.2)"
      ],
      "execution_count": 56,
      "outputs": [
        {
          "output_type": "stream",
          "text": [
            "CPU times: user 36.2 s, sys: 2.47 s, total: 38.7 s\n",
            "Wall time: 28.8 s\n"
          ],
          "name": "stdout"
        }
      ]
    },
    {
      "cell_type": "code",
      "metadata": {
        "id": "4rk-rqTNi_lj",
        "outputId": "564c9f8b-fe03-4af6-ed94-b326ff5697cb",
        "colab": {
          "base_uri": "https://localhost:8080/",
          "height": 204
        }
      },
      "source": [
        "hist = pd.DataFrame(history.history)\n",
        "hist['epoch'] = history.epoch\n",
        "hist.tail()"
      ],
      "execution_count": 57,
      "outputs": [
        {
          "output_type": "execute_result",
          "data": {
            "text/html": [
              "<div>\n",
              "<style scoped>\n",
              "    .dataframe tbody tr th:only-of-type {\n",
              "        vertical-align: middle;\n",
              "    }\n",
              "\n",
              "    .dataframe tbody tr th {\n",
              "        vertical-align: top;\n",
              "    }\n",
              "\n",
              "    .dataframe thead th {\n",
              "        text-align: right;\n",
              "    }\n",
              "</style>\n",
              "<table border=\"1\" class=\"dataframe\">\n",
              "  <thead>\n",
              "    <tr style=\"text-align: right;\">\n",
              "      <th></th>\n",
              "      <th>loss</th>\n",
              "      <th>val_loss</th>\n",
              "      <th>epoch</th>\n",
              "    </tr>\n",
              "  </thead>\n",
              "  <tbody>\n",
              "    <tr>\n",
              "      <th>95</th>\n",
              "      <td>1.035921</td>\n",
              "      <td>1.021383</td>\n",
              "      <td>95</td>\n",
              "    </tr>\n",
              "    <tr>\n",
              "      <th>96</th>\n",
              "      <td>1.034424</td>\n",
              "      <td>1.019960</td>\n",
              "      <td>96</td>\n",
              "    </tr>\n",
              "    <tr>\n",
              "      <th>97</th>\n",
              "      <td>1.032927</td>\n",
              "      <td>1.018549</td>\n",
              "      <td>97</td>\n",
              "    </tr>\n",
              "    <tr>\n",
              "      <th>98</th>\n",
              "      <td>1.031434</td>\n",
              "      <td>1.017140</td>\n",
              "      <td>98</td>\n",
              "    </tr>\n",
              "    <tr>\n",
              "      <th>99</th>\n",
              "      <td>1.029940</td>\n",
              "      <td>1.015719</td>\n",
              "      <td>99</td>\n",
              "    </tr>\n",
              "  </tbody>\n",
              "</table>\n",
              "</div>"
            ],
            "text/plain": [
              "        loss  val_loss  epoch\n",
              "95  1.035921  1.021383     95\n",
              "96  1.034424  1.019960     96\n",
              "97  1.032927  1.018549     97\n",
              "98  1.031434  1.017140     98\n",
              "99  1.029940  1.015719     99"
            ]
          },
          "metadata": {
            "tags": []
          },
          "execution_count": 57
        }
      ]
    },
    {
      "cell_type": "code",
      "metadata": {
        "id": "VL3f-ruPiEyE"
      },
      "source": [
        "def plot_loss(history):\n",
        "  plt.plot(history.history['loss'], label='loss')\n",
        "  plt.plot(history.history['val_loss'], label='val_loss')\n",
        "  plt.ylim([0.6, 1.5])\n",
        "  plt.xlabel('Epoch')\n",
        "  plt.ylabel('Error [complete]')\n",
        "  plt.legend()\n",
        "  plt.grid(True)"
      ],
      "execution_count": 66,
      "outputs": []
    },
    {
      "cell_type": "code",
      "metadata": {
        "id": "rApnPOz0h1QJ",
        "outputId": "c3a8bdf2-42be-47d6-b514-fa23568865e8",
        "colab": {
          "base_uri": "https://localhost:8080/",
          "height": 283
        }
      },
      "source": [
        "plot_loss(history)"
      ],
      "execution_count": 67,
      "outputs": [
        {
          "output_type": "display_data",
          "data": {
            "image/png": "[encoded data removed]",
            "text/plain": [
              "<Figure size 432x288 with 1 Axes>"
            ]
          },
          "metadata": {
            "tags": [],
            "needs_background": "light"
          }
        }
      ]
    },
    {
      "cell_type": "code",
      "metadata": {
        "id": "CWg9sbBrh5id"
      },
      "source": [
        "test_results['linear_model'] = linear_model.evaluate(\n",
        "    test_features, test_labels, verbose=0)"
      ],
      "execution_count": 68,
      "outputs": []
    },
    {
      "cell_type": "markdown",
      "metadata": {
        "id": "2EKQOkyCqyQC"
      },
      "source": [
        "# A DNN REgression"
      ]
    },
    {
      "cell_type": "code",
      "metadata": {
        "id": "b3czv2ZoiggW"
      },
      "source": [
        ""
      ],
      "execution_count": 177,
      "outputs": []
    },
    {
      "cell_type": "code",
      "metadata": {
        "id": "Ck5eXsTMih8J"
      },
      "source": [
        ""
      ],
      "execution_count": null,
      "outputs": []
    },
    {
      "cell_type": "code",
      "metadata": {
        "id": "dQZpdrAHih-e"
      },
      "source": [
        ""
      ],
      "execution_count": null,
      "outputs": []
    },
    {
      "cell_type": "code",
      "metadata": {
        "id": "aF2Sn6jNih3F"
      },
      "source": [
        ""
      ],
      "execution_count": null,
      "outputs": []
    }
  ]
}